{
 "cells": [
  {
   "cell_type": "code",
   "execution_count": 1,
   "id": "8e93bf11",
   "metadata": {},
   "outputs": [
    {
     "name": "stderr",
     "output_type": "stream",
     "text": [
      "/home/cathylab/anaconda3/envs/ivy/lib/python3.9/site-packages/tqdm/auto.py:22: TqdmWarning: IProgress not found. Please update jupyter and ipywidgets. See https://ipywidgets.readthedocs.io/en/stable/user_install.html\n",
      "  from .autonotebook import tqdm as notebook_tqdm\n",
      "2022-11-25 20:18:11.735520: I tensorflow/core/platform/cpu_feature_guard.cc:193] This TensorFlow binary is optimized with oneAPI Deep Neural Network Library (oneDNN) to use the following CPU instructions in performance-critical operations:  AVX2 AVX_VNNI FMA\n",
      "To enable them in other operations, rebuild TensorFlow with the appropriate compiler flags.\n",
      "2022-11-25 20:18:11.822636: I tensorflow/core/util/port.cc:104] oneDNN custom operations are on. You may see slightly different numerical results due to floating-point round-off errors from different computation orders. To turn them off, set the environment variable `TF_ENABLE_ONEDNN_OPTS=0`.\n",
      "2022-11-25 20:18:12.205764: W tensorflow/compiler/xla/stream_executor/platform/default/dso_loader.cc:64] Could not load dynamic library 'libnvinfer.so.7'; dlerror: libnvinfer.so.7: cannot open shared object file: No such file or directory; LD_LIBRARY_PATH: /home/cathylab/root/lib:/home/cathylab/geant4/geant4-v11.1.b01-install/lib:/usr/local/Qt-5.15.2/lib\n",
      "2022-11-25 20:18:12.205799: W tensorflow/compiler/xla/stream_executor/platform/default/dso_loader.cc:64] Could not load dynamic library 'libnvinfer_plugin.so.7'; dlerror: libnvinfer_plugin.so.7: cannot open shared object file: No such file or directory; LD_LIBRARY_PATH: /home/cathylab/root/lib:/home/cathylab/geant4/geant4-v11.1.b01-install/lib:/usr/local/Qt-5.15.2/lib\n",
      "2022-11-25 20:18:12.205802: W tensorflow/compiler/tf2tensorrt/utils/py_utils.cc:38] TF-TRT Warning: Cannot dlopen some TensorRT libraries. If you would like to use Nvidia GPU with TensorRT, please make sure the missing libraries mentioned above are installed properly.\n"
     ]
    }
   ],
   "source": [
    "import pandas as pd\n",
    "import numpy as np\n",
    "import nltk\n",
    "import matplotlib.pyplot as plt\n",
    "import json\n",
    "from simpletransformers.classification import ClassificationModel,ClassificationArgs\n",
    "import torch\n",
    "import re, string\n",
    "\n",
    "%matplotlib inline\n",
    "\n",
    "#print(\"gensim: \" + gensim.__version__)\n",
    "# print(\"tensorflow: \" + tensorflow.__version__)\n",
    "# print(\"keras: \" + keras.__version__)"
   ]
  },
  {
   "cell_type": "markdown",
   "id": "98c6ee93",
   "metadata": {},
   "source": [
    "### Load data"
   ]
  },
  {
   "cell_type": "code",
   "execution_count": 2,
   "id": "7532993d",
   "metadata": {},
   "outputs": [],
   "source": [
    "### data\n",
    "emotion = pd.read_csv(\"emotion.csv\")\n",
    "data_identification = pd.read_csv(\"data_identification.csv\")"
   ]
  },
  {
   "cell_type": "markdown",
   "id": "33309f8d",
   "metadata": {},
   "source": [
    "#### The .json file include the main data. It needs the pd.json_normalize() to flatten its structure and to get the information we need (text)."
   ]
  },
  {
   "cell_type": "code",
   "execution_count": 3,
   "id": "ee62690c",
   "metadata": {},
   "outputs": [],
   "source": [
    "# load data using Python JSON module\n",
    "with open('tweets_DM.json','r') as f:\n",
    "    #data = json.loads(f.read())\n",
    "    data = [json.loads(line) for line in f]\n",
    "    \n",
    "# Normalizing data\n",
    "tweets_DM = pd.json_normalize(data)"
   ]
  },
  {
   "cell_type": "code",
   "execution_count": 4,
   "id": "5167dcb5",
   "metadata": {},
   "outputs": [
    {
     "data": {
      "text/html": [
       "<div>\n",
       "<style scoped>\n",
       "    .dataframe tbody tr th:only-of-type {\n",
       "        vertical-align: middle;\n",
       "    }\n",
       "\n",
       "    .dataframe tbody tr th {\n",
       "        vertical-align: top;\n",
       "    }\n",
       "\n",
       "    .dataframe thead th {\n",
       "        text-align: right;\n",
       "    }\n",
       "</style>\n",
       "<table border=\"1\" class=\"dataframe\">\n",
       "  <thead>\n",
       "    <tr style=\"text-align: right;\">\n",
       "      <th></th>\n",
       "      <th>tweet_id</th>\n",
       "      <th>text</th>\n",
       "    </tr>\n",
       "  </thead>\n",
       "  <tbody>\n",
       "    <tr>\n",
       "      <th>0</th>\n",
       "      <td>0x376b20</td>\n",
       "      <td>People who post \"add me on #Snapchat\" must be ...</td>\n",
       "    </tr>\n",
       "    <tr>\n",
       "      <th>1</th>\n",
       "      <td>0x2d5350</td>\n",
       "      <td>@brianklaas As we see, Trump is dangerous to #...</td>\n",
       "    </tr>\n",
       "    <tr>\n",
       "      <th>2</th>\n",
       "      <td>0x28b412</td>\n",
       "      <td>Confident of your obedience, I write to you, k...</td>\n",
       "    </tr>\n",
       "    <tr>\n",
       "      <th>3</th>\n",
       "      <td>0x1cd5b0</td>\n",
       "      <td>Now ISSA is stalking Tasha 😂😂😂 &lt;LH&gt;</td>\n",
       "    </tr>\n",
       "    <tr>\n",
       "      <th>4</th>\n",
       "      <td>0x2de201</td>\n",
       "      <td>\"Trust is not the same as faith. A friend is s...</td>\n",
       "    </tr>\n",
       "  </tbody>\n",
       "</table>\n",
       "</div>"
      ],
      "text/plain": [
       "   tweet_id                                               text\n",
       "0  0x376b20  People who post \"add me on #Snapchat\" must be ...\n",
       "1  0x2d5350  @brianklaas As we see, Trump is dangerous to #...\n",
       "2  0x28b412  Confident of your obedience, I write to you, k...\n",
       "3  0x1cd5b0                Now ISSA is stalking Tasha 😂😂😂 <LH>\n",
       "4  0x2de201  \"Trust is not the same as faith. A friend is s..."
      ]
     },
     "execution_count": 4,
     "metadata": {},
     "output_type": "execute_result"
    }
   ],
   "source": [
    "tweets_DM_selected = tweets_DM.rename(columns = {\"_source.tweet.tweet_id\": \"tweet_id\", \"_source.tweet.text\": \"text\"})[['tweet_id', 'text']]\n",
    "tweets_DM_selected.head()"
   ]
  },
  {
   "cell_type": "markdown",
   "id": "4b5ff99d",
   "metadata": {},
   "source": [
    "#### Merge multiple dataframe for further usage\n",
    "Then split the data into training and testing set by the \"identification\" column. Drop the unwanted columns afterward."
   ]
  },
  {
   "cell_type": "code",
   "execution_count": 5,
   "id": "bb6d7b6a",
   "metadata": {},
   "outputs": [
    {
     "data": {
      "text/html": [
       "<div>\n",
       "<style scoped>\n",
       "    .dataframe tbody tr th:only-of-type {\n",
       "        vertical-align: middle;\n",
       "    }\n",
       "\n",
       "    .dataframe tbody tr th {\n",
       "        vertical-align: top;\n",
       "    }\n",
       "\n",
       "    .dataframe thead th {\n",
       "        text-align: right;\n",
       "    }\n",
       "</style>\n",
       "<table border=\"1\" class=\"dataframe\">\n",
       "  <thead>\n",
       "    <tr style=\"text-align: right;\">\n",
       "      <th></th>\n",
       "      <th>tweet_id</th>\n",
       "      <th>text</th>\n",
       "      <th>identification</th>\n",
       "    </tr>\n",
       "  </thead>\n",
       "  <tbody>\n",
       "    <tr>\n",
       "      <th>0</th>\n",
       "      <td>0x376b20</td>\n",
       "      <td>People who post \"add me on #Snapchat\" must be ...</td>\n",
       "      <td>train</td>\n",
       "    </tr>\n",
       "    <tr>\n",
       "      <th>1</th>\n",
       "      <td>0x2d5350</td>\n",
       "      <td>@brianklaas As we see, Trump is dangerous to #...</td>\n",
       "      <td>train</td>\n",
       "    </tr>\n",
       "    <tr>\n",
       "      <th>2</th>\n",
       "      <td>0x28b412</td>\n",
       "      <td>Confident of your obedience, I write to you, k...</td>\n",
       "      <td>test</td>\n",
       "    </tr>\n",
       "    <tr>\n",
       "      <th>3</th>\n",
       "      <td>0x1cd5b0</td>\n",
       "      <td>Now ISSA is stalking Tasha 😂😂😂 &lt;LH&gt;</td>\n",
       "      <td>train</td>\n",
       "    </tr>\n",
       "    <tr>\n",
       "      <th>4</th>\n",
       "      <td>0x2de201</td>\n",
       "      <td>\"Trust is not the same as faith. A friend is s...</td>\n",
       "      <td>test</td>\n",
       "    </tr>\n",
       "  </tbody>\n",
       "</table>\n",
       "</div>"
      ],
      "text/plain": [
       "   tweet_id                                               text identification\n",
       "0  0x376b20  People who post \"add me on #Snapchat\" must be ...          train\n",
       "1  0x2d5350  @brianklaas As we see, Trump is dangerous to #...          train\n",
       "2  0x28b412  Confident of your obedience, I write to you, k...           test\n",
       "3  0x1cd5b0                Now ISSA is stalking Tasha 😂😂😂 <LH>          train\n",
       "4  0x2de201  \"Trust is not the same as faith. A friend is s...           test"
      ]
     },
     "execution_count": 5,
     "metadata": {},
     "output_type": "execute_result"
    }
   ],
   "source": [
    "id_text_iden = tweets_DM_selected.merge(data_identification, how='outer', on='tweet_id')\n",
    "id_text_iden.head()"
   ]
  },
  {
   "cell_type": "code",
   "execution_count": 6,
   "id": "4c1692cc",
   "metadata": {},
   "outputs": [],
   "source": [
    "train_info_df = id_text_iden.loc[id_text_iden['identification'] == 'train']\n",
    "test_df = id_text_iden.loc[id_text_iden['identification'] == 'test']\n",
    "train_df = train_info_df.merge(emotion, how='outer', on='tweet_id')"
   ]
  },
  {
   "cell_type": "code",
   "execution_count": 7,
   "id": "dfa376e8",
   "metadata": {},
   "outputs": [
    {
     "name": "stderr",
     "output_type": "stream",
     "text": [
      "/tmp/ipykernel_6455/2274263513.py:2: SettingWithCopyWarning: \n",
      "A value is trying to be set on a copy of a slice from a DataFrame\n",
      "\n",
      "See the caveats in the documentation: https://pandas.pydata.org/pandas-docs/stable/user_guide/indexing.html#returning-a-view-versus-a-copy\n",
      "  test_df.drop(['identification'], axis=1, inplace=True)\n"
     ]
    }
   ],
   "source": [
    "train_df.drop(['tweet_id', 'identification'], axis=1, inplace=True)\n",
    "test_df.drop(['identification'], axis=1, inplace=True)"
   ]
  },
  {
   "cell_type": "code",
   "execution_count": 8,
   "id": "43f85813",
   "metadata": {},
   "outputs": [
    {
     "data": {
      "text/plain": [
       "emotion\n",
       "anger            39867\n",
       "anticipation    248935\n",
       "disgust         139101\n",
       "fear             63999\n",
       "joy             516017\n",
       "sadness         193437\n",
       "surprise         48729\n",
       "trust           205478\n",
       "Name: text, dtype: int64"
      ]
     },
     "execution_count": 8,
     "metadata": {},
     "output_type": "execute_result"
    }
   ],
   "source": [
    "# group to find distribution\n",
    "train_df.groupby(['emotion']).count()['text']"
   ]
  },
  {
   "cell_type": "markdown",
   "id": "3d584d84",
   "metadata": {},
   "source": [
    "### Plot the distribution of our data"
   ]
  },
  {
   "cell_type": "code",
   "execution_count": 9,
   "id": "1f21f2ff",
   "metadata": {},
   "outputs": [
    {
     "data": {
      "image/png": "[encoded data removed]",
      "text/plain": [
       "<Figure size 800x400 with 1 Axes>"
      ]
     },
     "metadata": {},
     "output_type": "display_data"
    }
   ],
   "source": [
    "%matplotlib inline\n",
    "import numpy as np\n",
    "import matplotlib.pyplot as plt\n",
    "\n",
    "# the histogram of the data\n",
    "labels = train_df['emotion'].unique()\n",
    "post_total = len(train_df)\n",
    "df1 = train_df.groupby(['emotion']).count()['text']\n",
    "df1 = df1.apply(lambda x: round(x*100/post_total,3))\n",
    "\n",
    "#plot\n",
    "fig, ax = plt.subplots(figsize=(8,4))\n",
    "plt.bar(df1.index,df1.values)\n",
    "\n",
    "#arrange\n",
    "plt.ylabel('% of instances')\n",
    "plt.xlabel('Emotion')\n",
    "plt.title('Emotion distribution')\n",
    "plt.grid(True)\n",
    "plt.show()"
   ]
  },
  {
   "cell_type": "markdown",
   "id": "adc464f0",
   "metadata": {},
   "source": [
    "#### Since we have highly biased data, I was thinking about maybe sampling each class into the same amount may help. Turn out, it didn't. Thus I do not use this method in my final submission."
   ]
  },
  {
   "cell_type": "code",
   "execution_count": 35,
   "id": "bb790a1c",
   "metadata": {},
   "outputs": [
    {
     "data": {
      "text/plain": [
       "emotion\n",
       "anger           30000\n",
       "anticipation    30000\n",
       "disgust         30000\n",
       "fear            30000\n",
       "joy             30000\n",
       "sadness         30000\n",
       "surprise        30000\n",
       "trust           30000\n",
       "Name: text, dtype: int64"
      ]
     },
     "execution_count": 35,
     "metadata": {},
     "output_type": "execute_result"
    }
   ],
   "source": [
    "# sampling data\n",
    "new_df = train_df.groupby(['emotion']).sample(n=30000)\n",
    "new_df.groupby(['emotion']).count()['text']"
   ]
  },
  {
   "cell_type": "markdown",
   "id": "52e962c7",
   "metadata": {},
   "source": [
    "Shuffle dataset"
   ]
  },
  {
   "cell_type": "code",
   "execution_count": 45,
   "id": "d51fea97",
   "metadata": {
    "scrolled": true
   },
   "outputs": [
    {
     "data": {
      "text/html": [
       "<div>\n",
       "<style scoped>\n",
       "    .dataframe tbody tr th:only-of-type {\n",
       "        vertical-align: middle;\n",
       "    }\n",
       "\n",
       "    .dataframe tbody tr th {\n",
       "        vertical-align: top;\n",
       "    }\n",
       "\n",
       "    .dataframe thead th {\n",
       "        text-align: right;\n",
       "    }\n",
       "</style>\n",
       "<table border=\"1\" class=\"dataframe\">\n",
       "  <thead>\n",
       "    <tr style=\"text-align: right;\">\n",
       "      <th></th>\n",
       "      <th>text</th>\n",
       "      <th>emotion</th>\n",
       "    </tr>\n",
       "  </thead>\n",
       "  <tbody>\n",
       "    <tr>\n",
       "      <th>61395</th>\n",
       "      <td>So I missed a pill about three days ago, but I...</td>\n",
       "      <td>5</td>\n",
       "    </tr>\n",
       "    <tr>\n",
       "      <th>397266</th>\n",
       "      <td>esk speaking weiii... &lt;LH&gt; #muet</td>\n",
       "      <td>3</td>\n",
       "    </tr>\n",
       "    <tr>\n",
       "      <th>468691</th>\n",
       "      <td>So now everyone Wants money for sleeping wth #...</td>\n",
       "      <td>2</td>\n",
       "    </tr>\n",
       "    <tr>\n",
       "      <th>776814</th>\n",
       "      <td>&lt;LH&gt; #LosAngeles and #friends. Say &lt;LH&gt; #Neigh...</td>\n",
       "      <td>4</td>\n",
       "    </tr>\n",
       "    <tr>\n",
       "      <th>675139</th>\n",
       "      <td>People are strange but what they think is even...</td>\n",
       "      <td>6</td>\n",
       "    </tr>\n",
       "    <tr>\n",
       "      <th>...</th>\n",
       "      <td>...</td>\n",
       "      <td>...</td>\n",
       "    </tr>\n",
       "    <tr>\n",
       "      <th>1006790</th>\n",
       "      <td>@mattwilson_star morning matt getting worried ...</td>\n",
       "      <td>0</td>\n",
       "    </tr>\n",
       "    <tr>\n",
       "      <th>291850</th>\n",
       "      <td>Looking forward to my keynote tomorrow @PENZ_T...</td>\n",
       "      <td>7</td>\n",
       "    </tr>\n",
       "    <tr>\n",
       "      <th>219654</th>\n",
       "      <td>@chubby6665 Great insight on Sky into your bus...</td>\n",
       "      <td>3</td>\n",
       "    </tr>\n",
       "    <tr>\n",
       "      <th>1107776</th>\n",
       "      <td>Do me a favor, train the WOMEN this time. #Afg...</td>\n",
       "      <td>0</td>\n",
       "    </tr>\n",
       "    <tr>\n",
       "      <th>399933</th>\n",
       "      <td>Good advice @theuptownfive. Take your medicine...</td>\n",
       "      <td>0</td>\n",
       "    </tr>\n",
       "  </tbody>\n",
       "</table>\n",
       "<p>240000 rows × 2 columns</p>\n",
       "</div>"
      ],
      "text/plain": [
       "                                                      text  emotion\n",
       "61395    So I missed a pill about three days ago, but I...        5\n",
       "397266                    esk speaking weiii... <LH> #muet        3\n",
       "468691   So now everyone Wants money for sleeping wth #...        2\n",
       "776814   <LH> #LosAngeles and #friends. Say <LH> #Neigh...        4\n",
       "675139   People are strange but what they think is even...        6\n",
       "...                                                    ...      ...\n",
       "1006790  @mattwilson_star morning matt getting worried ...        0\n",
       "291850   Looking forward to my keynote tomorrow @PENZ_T...        7\n",
       "219654   @chubby6665 Great insight on Sky into your bus...        3\n",
       "1107776  Do me a favor, train the WOMEN this time. #Afg...        0\n",
       "399933   Good advice @theuptownfive. Take your medicine...        0\n",
       "\n",
       "[240000 rows x 2 columns]"
      ]
     },
     "execution_count": 45,
     "metadata": {},
     "output_type": "execute_result"
    }
   ],
   "source": [
    "new_df = new_df.sample(frac=1)\n",
    "new_df"
   ]
  },
  {
   "cell_type": "markdown",
   "id": "1de537a7",
   "metadata": {},
   "source": [
    "Change the word-form emotions into number-form."
   ]
  },
  {
   "cell_type": "code",
   "execution_count": 10,
   "id": "454efc64",
   "metadata": {},
   "outputs": [],
   "source": [
    "emotion_state = {\n",
    "    'anger': 0,\n",
    "    'anticipation': 1,\n",
    "    'disgust': 2,\n",
    "    'fear': 3,\n",
    "    'joy': 4,\n",
    "    'sadness': 5,\n",
    "    'surprise': 6,\n",
    "    'trust': 7}\n",
    "\n",
    "new_df = train_df.replace({\"emotion\": emotion_state})\n",
    "# train_df.head(10)"
   ]
  },
  {
   "cell_type": "code",
   "execution_count": 11,
   "id": "68c2a729",
   "metadata": {},
   "outputs": [
    {
     "data": {
      "text/html": [
       "<div>\n",
       "<style scoped>\n",
       "    .dataframe tbody tr th:only-of-type {\n",
       "        vertical-align: middle;\n",
       "    }\n",
       "\n",
       "    .dataframe tbody tr th {\n",
       "        vertical-align: top;\n",
       "    }\n",
       "\n",
       "    .dataframe thead th {\n",
       "        text-align: right;\n",
       "    }\n",
       "</style>\n",
       "<table border=\"1\" class=\"dataframe\">\n",
       "  <thead>\n",
       "    <tr style=\"text-align: right;\">\n",
       "      <th></th>\n",
       "      <th>text</th>\n",
       "      <th>labels</th>\n",
       "    </tr>\n",
       "  </thead>\n",
       "  <tbody>\n",
       "    <tr>\n",
       "      <th>0</th>\n",
       "      <td>People who post \"add me on #Snapchat\" must be ...</td>\n",
       "      <td>1</td>\n",
       "    </tr>\n",
       "    <tr>\n",
       "      <th>1</th>\n",
       "      <td>@brianklaas As we see, Trump is dangerous to #...</td>\n",
       "      <td>5</td>\n",
       "    </tr>\n",
       "    <tr>\n",
       "      <th>2</th>\n",
       "      <td>Now ISSA is stalking Tasha 😂😂😂 &lt;LH&gt;</td>\n",
       "      <td>3</td>\n",
       "    </tr>\n",
       "    <tr>\n",
       "      <th>3</th>\n",
       "      <td>@RISKshow @TheKevinAllison Thx for the BEST TI...</td>\n",
       "      <td>4</td>\n",
       "    </tr>\n",
       "    <tr>\n",
       "      <th>4</th>\n",
       "      <td>Still waiting on those supplies Liscus. &lt;LH&gt;</td>\n",
       "      <td>1</td>\n",
       "    </tr>\n",
       "  </tbody>\n",
       "</table>\n",
       "</div>"
      ],
      "text/plain": [
       "                                                text  labels\n",
       "0  People who post \"add me on #Snapchat\" must be ...       1\n",
       "1  @brianklaas As we see, Trump is dangerous to #...       5\n",
       "2                Now ISSA is stalking Tasha 😂😂😂 <LH>       3\n",
       "3  @RISKshow @TheKevinAllison Thx for the BEST TI...       4\n",
       "4       Still waiting on those supplies Liscus. <LH>       1"
      ]
     },
     "execution_count": 11,
     "metadata": {},
     "output_type": "execute_result"
    }
   ],
   "source": [
    "train_df = new_df.rename(columns = {\"text\":\"text\", \"emotion\": \"labels\"})[['text','labels']]\n",
    "train_df.head()"
   ]
  },
  {
   "cell_type": "code",
   "execution_count": 12,
   "id": "64f6200f",
   "metadata": {},
   "outputs": [],
   "source": [
    "train_df.to_pickle(\"train_df.pkl\") \n",
    "test_df.to_pickle(\"test_df.pkl\")"
   ]
  },
  {
   "cell_type": "code",
   "execution_count": 13,
   "id": "9f25995b",
   "metadata": {},
   "outputs": [],
   "source": [
    "import pandas as pd\n",
    "\n",
    "## load a pickle file\n",
    "train_df = pd.read_pickle(\"train_df.pkl\")\n",
    "test_df = pd.read_pickle(\"test_df.pkl\")"
   ]
  },
  {
   "cell_type": "markdown",
   "id": "dbc23a5f",
   "metadata": {},
   "source": [
    "#### Split training data into taining and validation part."
   ]
  },
  {
   "cell_type": "code",
   "execution_count": 14,
   "id": "fb187283",
   "metadata": {},
   "outputs": [],
   "source": [
    "from sklearn.model_selection import train_test_split\n",
    "\n",
    "train_data, val_data = train_test_split(train_df, train_size=0.8)"
   ]
  },
  {
   "cell_type": "markdown",
   "id": "cec3c351",
   "metadata": {},
   "source": [
    "### Using Bag of Words"
   ]
  },
  {
   "cell_type": "code",
   "execution_count": 15,
   "id": "7d254113",
   "metadata": {},
   "outputs": [],
   "source": [
    "from sklearn.feature_extraction.text import CountVectorizer"
   ]
  },
  {
   "cell_type": "code",
   "execution_count": 16,
   "id": "03c82efa",
   "metadata": {},
   "outputs": [
    {
     "name": "stderr",
     "output_type": "stream",
     "text": [
      "[nltk_data] Downloading package punkt to /home/cathylab/nltk_data...\n",
      "[nltk_data]   Package punkt is already up-to-date!\n",
      "/home/cathylab/anaconda3/envs/ivy/lib/python3.9/site-packages/sklearn/feature_extraction/text.py:524: UserWarning: The parameter 'token_pattern' will not be used since 'tokenizer' is not None'\n",
      "  warnings.warn(\n"
     ]
    },
    {
     "data": {
      "text/plain": [
       "(1164450, 500)"
      ]
     },
     "execution_count": 16,
     "metadata": {},
     "output_type": "execute_result"
    }
   ],
   "source": [
    "import nltk\n",
    "nltk.download('punkt')\n",
    "\n",
    "# build analyzers (bag-of-words)\n",
    "BOW_500 = CountVectorizer(max_features=500, tokenizer=nltk.word_tokenize) \n",
    "\n",
    "# apply analyzer to training data\n",
    "BOW_500.fit(train_data['text'])\n",
    "\n",
    "train_data_BOW_features_500 = BOW_500.transform(train_data['text'])\n",
    "\n",
    "## check dimension\n",
    "train_data_BOW_features_500.shape"
   ]
  },
  {
   "cell_type": "code",
   "execution_count": 17,
   "id": "f9d6f418",
   "metadata": {},
   "outputs": [
    {
     "data": {
      "text/plain": [
       "array([[1, 0, 0, ..., 0, 0, 0],\n",
       "       [0, 1, 0, ..., 0, 0, 0],\n",
       "       [0, 2, 0, ..., 0, 0, 0],\n",
       "       ...,\n",
       "       [1, 0, 0, ..., 0, 0, 0],\n",
       "       [0, 3, 0, ..., 0, 0, 0],\n",
       "       [0, 0, 0, ..., 0, 0, 0]])"
      ]
     },
     "execution_count": 17,
     "metadata": {},
     "output_type": "execute_result"
    }
   ],
   "source": [
    "train_data_BOW_features_500.toarray()"
   ]
  },
  {
   "cell_type": "code",
   "execution_count": 18,
   "id": "b757ff0e",
   "metadata": {},
   "outputs": [
    {
     "data": {
      "text/plain": [
       "array(['can', 'car', 'care', 'change', 'christ', 'christmas', 'closed',\n",
       "       'come', 'comes', 'coming'], dtype=object)"
      ]
     },
     "execution_count": 18,
     "metadata": {},
     "output_type": "execute_result"
    }
   ],
   "source": [
    "# observe some feature names\n",
    "feature_names_500 = BOW_500.get_feature_names_out()\n",
    "feature_names_500[100:110]"
   ]
  },
  {
   "cell_type": "code",
   "execution_count": 19,
   "id": "9508b3c8",
   "metadata": {},
   "outputs": [
    {
     "data": {
      "text/plain": [
       "True"
      ]
     },
     "execution_count": 19,
     "metadata": {},
     "output_type": "execute_result"
    }
   ],
   "source": [
    "\"😂\" in feature_names_500"
   ]
  },
  {
   "cell_type": "code",
   "execution_count": 20,
   "id": "c87b1637",
   "metadata": {},
   "outputs": [
    {
     "data": {
      "text/html": [
       "<div>\n",
       "<style scoped>\n",
       "    .dataframe tbody tr th:only-of-type {\n",
       "        vertical-align: middle;\n",
       "    }\n",
       "\n",
       "    .dataframe tbody tr th {\n",
       "        vertical-align: top;\n",
       "    }\n",
       "\n",
       "    .dataframe thead th {\n",
       "        text-align: right;\n",
       "    }\n",
       "</style>\n",
       "<table border=\"1\" class=\"dataframe\">\n",
       "  <thead>\n",
       "    <tr style=\"text-align: right;\">\n",
       "      <th></th>\n",
       "      <th>text</th>\n",
       "      <th>labels</th>\n",
       "    </tr>\n",
       "  </thead>\n",
       "  <tbody>\n",
       "    <tr>\n",
       "      <th>842335</th>\n",
       "      <td>Really feeling this weather! &lt;LH&gt;</td>\n",
       "      <td>4</td>\n",
       "    </tr>\n",
       "    <tr>\n",
       "      <th>476118</th>\n",
       "      <td>I love his apron. 👌🏾 #44  &lt;LH&gt;</td>\n",
       "      <td>3</td>\n",
       "    </tr>\n",
       "    <tr>\n",
       "      <th>127211</th>\n",
       "      <td>32 Push the &lt;LH&gt; #everyday. Be some #special. ...</td>\n",
       "      <td>4</td>\n",
       "    </tr>\n",
       "    <tr>\n",
       "      <th>351107</th>\n",
       "      <td>I didn't come up. God came through &lt;LH&gt;</td>\n",
       "      <td>4</td>\n",
       "    </tr>\n",
       "    <tr>\n",
       "      <th>211360</th>\n",
       "      <td>@ohiodeplorable1 Thank you VERY much for the f...</td>\n",
       "      <td>1</td>\n",
       "    </tr>\n",
       "  </tbody>\n",
       "</table>\n",
       "</div>"
      ],
      "text/plain": [
       "                                                     text  labels\n",
       "842335                  Really feeling this weather! <LH>       4\n",
       "476118                     I love his apron. 👌🏾 #44  <LH>       3\n",
       "127211  32 Push the <LH> #everyday. Be some #special. ...       4\n",
       "351107            I didn't come up. God came through <LH>       4\n",
       "211360  @ohiodeplorable1 Thank you VERY much for the f...       1"
      ]
     },
     "execution_count": 20,
     "metadata": {},
     "output_type": "execute_result"
    }
   ],
   "source": [
    "train_data.head()"
   ]
  },
  {
   "cell_type": "code",
   "execution_count": 21,
   "id": "3365a3b2",
   "metadata": {},
   "outputs": [
    {
     "data": {
      "text/html": [
       "<div>\n",
       "<style scoped>\n",
       "    .dataframe tbody tr th:only-of-type {\n",
       "        vertical-align: middle;\n",
       "    }\n",
       "\n",
       "    .dataframe tbody tr th {\n",
       "        vertical-align: top;\n",
       "    }\n",
       "\n",
       "    .dataframe thead th {\n",
       "        text-align: right;\n",
       "    }\n",
       "</style>\n",
       "<table border=\"1\" class=\"dataframe\">\n",
       "  <thead>\n",
       "    <tr style=\"text-align: right;\">\n",
       "      <th></th>\n",
       "      <th>tweet_id</th>\n",
       "      <th>text</th>\n",
       "    </tr>\n",
       "  </thead>\n",
       "  <tbody>\n",
       "    <tr>\n",
       "      <th>2</th>\n",
       "      <td>0x28b412</td>\n",
       "      <td>Confident of your obedience, I write to you, k...</td>\n",
       "    </tr>\n",
       "    <tr>\n",
       "      <th>4</th>\n",
       "      <td>0x2de201</td>\n",
       "      <td>\"Trust is not the same as faith. A friend is s...</td>\n",
       "    </tr>\n",
       "    <tr>\n",
       "      <th>9</th>\n",
       "      <td>0x218443</td>\n",
       "      <td>When do you have enough ? When are you satisfi...</td>\n",
       "    </tr>\n",
       "    <tr>\n",
       "      <th>30</th>\n",
       "      <td>0x2939d5</td>\n",
       "      <td>God woke you up, now chase the day #GodsPlan #...</td>\n",
       "    </tr>\n",
       "    <tr>\n",
       "      <th>33</th>\n",
       "      <td>0x26289a</td>\n",
       "      <td>In these tough times, who do YOU turn to as yo...</td>\n",
       "    </tr>\n",
       "  </tbody>\n",
       "</table>\n",
       "</div>"
      ],
      "text/plain": [
       "    tweet_id                                               text\n",
       "2   0x28b412  Confident of your obedience, I write to you, k...\n",
       "4   0x2de201  \"Trust is not the same as faith. A friend is s...\n",
       "9   0x218443  When do you have enough ? When are you satisfi...\n",
       "30  0x2939d5  God woke you up, now chase the day #GodsPlan #...\n",
       "33  0x26289a  In these tough times, who do YOU turn to as yo..."
      ]
     },
     "execution_count": 21,
     "metadata": {},
     "output_type": "execute_result"
    }
   ],
   "source": [
    "test_df.head()"
   ]
  },
  {
   "cell_type": "markdown",
   "id": "2e5e7221",
   "metadata": {},
   "source": [
    "### Prepare data for NN model"
   ]
  },
  {
   "cell_type": "code",
   "execution_count": 22,
   "id": "8bd772e2",
   "metadata": {},
   "outputs": [
    {
     "name": "stdout",
     "output_type": "stream",
     "text": [
      "X_train.shape:  (1164450, 500)\n",
      "y_train.shape:  (1164450,)\n",
      "X_val.shape:  (291113, 500)\n",
      "y_val.shape:  (291113,)\n",
      "X_test.shape:  (411972, 500)\n"
     ]
    }
   ],
   "source": [
    "import keras\n",
    "\n",
    "# standardize name (X, y) \n",
    "X_train = BOW_500.transform(train_data['text'])\n",
    "y_train = train_data['labels']\n",
    "\n",
    "X_val = BOW_500.transform(val_data['text'])\n",
    "y_val = val_data['labels']\n",
    "\n",
    "X_test = BOW_500.transform(test_df['text'])\n",
    "\n",
    "## check dimension is a good habbit \n",
    "print('X_train.shape: ', X_train.shape)\n",
    "print('y_train.shape: ', y_train.shape)\n",
    "print('X_val.shape: ', X_val.shape)\n",
    "print('y_val.shape: ', y_val.shape)\n",
    "print('X_test.shape: ', X_test.shape)"
   ]
  },
  {
   "cell_type": "code",
   "execution_count": 23,
   "id": "f06c01ab",
   "metadata": {},
   "outputs": [
    {
     "name": "stdout",
     "output_type": "stream",
     "text": [
      "check label:  [0 1 2 3 4 5 6 7]\n",
      "\n",
      "## Before convert\n",
      "y_train[0:4]:\n",
      " 842335    4\n",
      "476118    3\n",
      "127211    4\n",
      "351107    4\n",
      "Name: labels, dtype: int64\n",
      "\n",
      "y_train.shape:  (1164450,)\n",
      "y_test.shape:  (291113,)\n",
      "\n",
      "\n",
      "## After convert\n",
      "y_train[0:4]:\n",
      " [[0. 0. 0. 0. 1. 0. 0. 0.]\n",
      " [0. 0. 0. 1. 0. 0. 0. 0.]\n",
      " [0. 0. 0. 0. 1. 0. 0. 0.]\n",
      " [0. 0. 0. 0. 1. 0. 0. 0.]]\n",
      "\n",
      "y_train.shape:  (1164450, 8)\n",
      "y_test.shape:  (291113, 8)\n"
     ]
    },
    {
     "name": "stderr",
     "output_type": "stream",
     "text": [
      "/tmp/ipykernel_6455/126661130.py:9: FutureWarning: The behavior of `series[i:j]` with an integer-dtype index is deprecated. In a future version, this will be treated as *label-based* indexing, consistent with e.g. `series[i]` lookups. To retain the old behavior, use `series.iloc[i:j]`. To get the future behavior, use `series.loc[i:j]`.\n",
      "  print('y_train[0:4]:\\n', y_train[0:4])\n"
     ]
    }
   ],
   "source": [
    "## deal with label (string -> one-hot)\n",
    "\n",
    "from sklearn.preprocessing import LabelEncoder\n",
    "\n",
    "label_encoder = LabelEncoder()\n",
    "label_encoder.fit(y_train)\n",
    "print('check label: ', label_encoder.classes_)\n",
    "print('\\n## Before convert')\n",
    "print('y_train[0:4]:\\n', y_train[0:4])\n",
    "print('\\ny_train.shape: ', y_train.shape)\n",
    "print('y_test.shape: ', y_val.shape)\n",
    "\n",
    "def label_encode(le, labels):\n",
    "    enc = le.transform(labels)\n",
    "    return keras.utils.to_categorical(enc)\n",
    "\n",
    "def label_decode(le, one_hot_label):\n",
    "    dec = np.argmax(one_hot_label, axis=1)\n",
    "    return le.inverse_transform(dec)\n",
    "\n",
    "y_train = label_encode(label_encoder, y_train)\n",
    "y_val = label_encode(label_encoder, y_val)\n",
    "\n",
    "print('\\n\\n## After convert')\n",
    "print('y_train[0:4]:\\n', y_train[0:4])\n",
    "print('\\ny_train.shape: ', y_train.shape)\n",
    "print('y_test.shape: ', y_val.shape)"
   ]
  },
  {
   "cell_type": "code",
   "execution_count": 24,
   "id": "a271679b",
   "metadata": {},
   "outputs": [
    {
     "name": "stdout",
     "output_type": "stream",
     "text": [
      "input_shape:  500\n",
      "output_shape:  8\n"
     ]
    }
   ],
   "source": [
    "# I/O check\n",
    "input_shape = X_train.shape[1]\n",
    "print('input_shape: ', input_shape)\n",
    "\n",
    "output_shape = len(label_encoder.classes_)\n",
    "print('output_shape: ', output_shape)"
   ]
  },
  {
   "cell_type": "markdown",
   "id": "305d8502",
   "metadata": {},
   "source": [
    "### Build model\n",
    "#### I add more hidden layers and add batch normalization before each activation function, hoping the model can perform better."
   ]
  },
  {
   "cell_type": "code",
   "execution_count": 25,
   "id": "787560f5",
   "metadata": {},
   "outputs": [
    {
     "name": "stderr",
     "output_type": "stream",
     "text": [
      "2022-11-25 20:31:18.289638: I tensorflow/compiler/xla/stream_executor/cuda/cuda_gpu_executor.cc:981] successful NUMA node read from SysFS had negative value (-1), but there must be at least one NUMA node, so returning NUMA node zero\n",
      "2022-11-25 20:31:18.310078: I tensorflow/compiler/xla/stream_executor/cuda/cuda_gpu_executor.cc:981] successful NUMA node read from SysFS had negative value (-1), but there must be at least one NUMA node, so returning NUMA node zero\n",
      "2022-11-25 20:31:18.310368: I tensorflow/compiler/xla/stream_executor/cuda/cuda_gpu_executor.cc:981] successful NUMA node read from SysFS had negative value (-1), but there must be at least one NUMA node, so returning NUMA node zero\n",
      "2022-11-25 20:31:18.311567: I tensorflow/core/platform/cpu_feature_guard.cc:193] This TensorFlow binary is optimized with oneAPI Deep Neural Network Library (oneDNN) to use the following CPU instructions in performance-critical operations:  AVX2 AVX_VNNI FMA\n",
      "To enable them in other operations, rebuild TensorFlow with the appropriate compiler flags.\n",
      "2022-11-25 20:31:18.313718: I tensorflow/compiler/xla/stream_executor/cuda/cuda_gpu_executor.cc:981] successful NUMA node read from SysFS had negative value (-1), but there must be at least one NUMA node, so returning NUMA node zero\n",
      "2022-11-25 20:31:18.313971: I tensorflow/compiler/xla/stream_executor/cuda/cuda_gpu_executor.cc:981] successful NUMA node read from SysFS had negative value (-1), but there must be at least one NUMA node, so returning NUMA node zero\n",
      "2022-11-25 20:31:18.314143: I tensorflow/compiler/xla/stream_executor/cuda/cuda_gpu_executor.cc:981] successful NUMA node read from SysFS had negative value (-1), but there must be at least one NUMA node, so returning NUMA node zero\n",
      "2022-11-25 20:31:19.353098: I tensorflow/compiler/xla/stream_executor/cuda/cuda_gpu_executor.cc:981] successful NUMA node read from SysFS had negative value (-1), but there must be at least one NUMA node, so returning NUMA node zero\n",
      "2022-11-25 20:31:19.353451: I tensorflow/compiler/xla/stream_executor/cuda/cuda_gpu_executor.cc:981] successful NUMA node read from SysFS had negative value (-1), but there must be at least one NUMA node, so returning NUMA node zero\n",
      "2022-11-25 20:31:19.353503: I tensorflow/compiler/xla/stream_executor/cuda/cuda_gpu_executor.cc:981] successful NUMA node read from SysFS had negative value (-1), but there must be at least one NUMA node, so returning NUMA node zero\n",
      "2022-11-25 20:31:19.353556: I tensorflow/core/common_runtime/gpu/gpu_device.cc:1613] Created device /job:localhost/replica:0/task:0/device:GPU:0 with 20031 MB memory:  -> device: 0, name: NVIDIA GeForce RTX 3090, pci bus id: 0000:01:00.0, compute capability: 8.6\n"
     ]
    },
    {
     "name": "stdout",
     "output_type": "stream",
     "text": [
      "Model: \"model\"\n",
      "_________________________________________________________________\n",
      " Layer (type)                Output Shape              Param #   \n",
      "=================================================================\n",
      " input_1 (InputLayer)        [(None, 500)]             0         \n",
      "                                                                 \n",
      " dense (Dense)               (None, 64)                32064     \n",
      "                                                                 \n",
      " batch_normalization (BatchN  (None, 64)               256       \n",
      " ormalization)                                                   \n",
      "                                                                 \n",
      " re_lu (ReLU)                (None, 64)                0         \n",
      "                                                                 \n",
      " dense_1 (Dense)             (None, 64)                4160      \n",
      "                                                                 \n",
      " batch_normalization_1 (Batc  (None, 64)               256       \n",
      " hNormalization)                                                 \n",
      "                                                                 \n",
      " re_lu_1 (ReLU)              (None, 64)                0         \n",
      "                                                                 \n",
      " dense_2 (Dense)             (None, 32)                2080      \n",
      "                                                                 \n",
      " batch_normalization_2 (Batc  (None, 32)               128       \n",
      " hNormalization)                                                 \n",
      "                                                                 \n",
      " re_lu_2 (ReLU)              (None, 32)                0         \n",
      "                                                                 \n",
      " dense_3 (Dense)             (None, 16)                528       \n",
      "                                                                 \n",
      " batch_normalization_3 (Batc  (None, 16)               64        \n",
      " hNormalization)                                                 \n",
      "                                                                 \n",
      " re_lu_3 (ReLU)              (None, 16)                0         \n",
      "                                                                 \n",
      " dense_4 (Dense)             (None, 8)                 136       \n",
      "                                                                 \n",
      " batch_normalization_4 (Batc  (None, 8)                32        \n",
      " hNormalization)                                                 \n",
      "                                                                 \n",
      " softmax (Softmax)           (None, 8)                 0         \n",
      "                                                                 \n",
      "=================================================================\n",
      "Total params: 39,704\n",
      "Trainable params: 39,336\n",
      "Non-trainable params: 368\n",
      "_________________________________________________________________\n"
     ]
    }
   ],
   "source": [
    "from keras.models import Model\n",
    "from keras.layers import Input, Dense\n",
    "from keras.layers import ReLU, Softmax\n",
    "from keras.layers import BatchNormalization\n",
    "\n",
    "# input layer\n",
    "model_input = Input(shape=(input_shape, ))  # 500\n",
    "X = model_input\n",
    "\n",
    "# 1st hidden layer\n",
    "X_W1 = Dense(units=64)(X)  # 64\n",
    "BN_1 = BatchNormalization()(X_W1)\n",
    "H1 = ReLU()(BN_1)\n",
    "\n",
    "# 2nd hidden layer\n",
    "H1_W2 = Dense(units=64)(H1)  # 64\n",
    "BN_2 = BatchNormalization()(H1_W2)\n",
    "H2 = ReLU()(BN_2)\n",
    "\n",
    "# 3rd hidden layer\n",
    "H2_W3 = Dense(units=32)(H2)  # 32\n",
    "BN_3 = BatchNormalization()(H2_W3)\n",
    "H3 = ReLU()(BN_3)\n",
    "\n",
    "# 4th hidden layer\n",
    "H3_W4 = Dense(units=16)(H3)  # 16\n",
    "BN_4 = BatchNormalization()(H3_W4)\n",
    "H4 = ReLU()(BN_4)\n",
    "\n",
    "# output layer\n",
    "H4_W5 = Dense(units=output_shape)(H4)  # 4\n",
    "BN_5 = BatchNormalization()(H4_W5)\n",
    "H5 = Softmax()(BN_5)\n",
    "\n",
    "model_output = H5\n",
    "\n",
    "# create model\n",
    "model = Model(inputs=[model_input], outputs=[model_output])\n",
    "\n",
    "# loss function & optimizer\n",
    "model.compile(optimizer='adam',\n",
    "              loss='categorical_crossentropy',\n",
    "              metrics=['accuracy'])\n",
    "\n",
    "# show model construction\n",
    "model.summary()"
   ]
  },
  {
   "cell_type": "markdown",
   "id": "da45f175",
   "metadata": {},
   "source": [
    "### Train model"
   ]
  },
  {
   "cell_type": "code",
   "execution_count": 26,
   "id": "c709c957",
   "metadata": {},
   "outputs": [
    {
     "name": "stdout",
     "output_type": "stream",
     "text": [
      "Epoch 1/25\n"
     ]
    },
    {
     "name": "stderr",
     "output_type": "stream",
     "text": [
      "2022-11-25 20:31:32.900591: I tensorflow/compiler/xla/stream_executor/cuda/cuda_blas.cc:630] TensorFloat-32 will be used for the matrix multiplication. This will only be logged once.\n",
      "2022-11-25 20:31:32.926177: I tensorflow/compiler/xla/service/service.cc:173] XLA service 0x7f6674006180 initialized for platform CUDA (this does not guarantee that XLA will be used). Devices:\n",
      "2022-11-25 20:31:32.926202: I tensorflow/compiler/xla/service/service.cc:181]   StreamExecutor device (0): NVIDIA GeForce RTX 3090, Compute Capability 8.6\n",
      "2022-11-25 20:31:32.945353: I tensorflow/compiler/mlir/tensorflow/utils/dump_mlir_util.cc:268] disabling MLIR crash reproducer, set env var `MLIR_CRASH_REPRODUCER_DIRECTORY` to enable.\n",
      "2022-11-25 20:31:33.158946: I tensorflow/compiler/jit/xla_compilation_cache.cc:477] Compiled cluster using XLA!  This line is logged at most once for the lifetime of the process.\n"
     ]
    },
    {
     "name": "stdout",
     "output_type": "stream",
     "text": [
      "36390/36390 [==============================] - 299s 8ms/step - loss: 1.4718 - accuracy: 0.4662 - val_loss: 1.3997 - val_accuracy: 0.4891\n",
      "Epoch 2/25\n",
      "36390/36390 [==============================] - 286s 8ms/step - loss: 1.4183 - accuracy: 0.4843 - val_loss: 1.3889 - val_accuracy: 0.4927\n",
      "Epoch 3/25\n",
      "36390/36390 [==============================] - 264s 7ms/step - loss: 1.4056 - accuracy: 0.4893 - val_loss: 1.3817 - val_accuracy: 0.4948\n",
      "Epoch 4/25\n",
      "36390/36390 [==============================] - 268s 7ms/step - loss: 1.3981 - accuracy: 0.4920 - val_loss: 1.3773 - val_accuracy: 0.4974\n",
      "Epoch 5/25\n",
      "36390/36390 [==============================] - 276s 8ms/step - loss: 1.3926 - accuracy: 0.4942 - val_loss: 1.3754 - val_accuracy: 0.4973\n",
      "Epoch 6/25\n",
      "36390/36390 [==============================] - 286s 8ms/step - loss: 1.3892 - accuracy: 0.4955 - val_loss: 1.3726 - val_accuracy: 0.4995\n",
      "Epoch 7/25\n",
      "36390/36390 [==============================] - 275s 8ms/step - loss: 1.3866 - accuracy: 0.4961 - val_loss: 1.3702 - val_accuracy: 0.4999\n",
      "Epoch 8/25\n",
      "36390/36390 [==============================] - 276s 8ms/step - loss: 1.3834 - accuracy: 0.4973 - val_loss: 1.3700 - val_accuracy: 0.5008\n",
      "Epoch 9/25\n",
      "36390/36390 [==============================] - 275s 8ms/step - loss: 1.3813 - accuracy: 0.4982 - val_loss: 1.3687 - val_accuracy: 0.5008\n",
      "Epoch 10/25\n",
      "36390/36390 [==============================] - 275s 8ms/step - loss: 1.3796 - accuracy: 0.4989 - val_loss: 1.3683 - val_accuracy: 0.5011\n",
      "Epoch 11/25\n",
      "36390/36390 [==============================] - 293s 8ms/step - loss: 1.3780 - accuracy: 0.4992 - val_loss: 1.3690 - val_accuracy: 0.5001\n",
      "Epoch 12/25\n",
      "36390/36390 [==============================] - 280s 8ms/step - loss: 1.3765 - accuracy: 0.4999 - val_loss: 1.3658 - val_accuracy: 0.5017\n",
      "Epoch 13/25\n",
      "36390/36390 [==============================] - 278s 8ms/step - loss: 1.3755 - accuracy: 0.5004 - val_loss: 1.3661 - val_accuracy: 0.5013\n",
      "Epoch 14/25\n",
      "36390/36390 [==============================] - 278s 8ms/step - loss: 1.3748 - accuracy: 0.5002 - val_loss: 1.3669 - val_accuracy: 0.5004\n",
      "Epoch 15/25\n",
      "36390/36390 [==============================] - 277s 8ms/step - loss: 1.3737 - accuracy: 0.5012 - val_loss: 1.3667 - val_accuracy: 0.5004\n",
      "Epoch 16/25\n",
      "36390/36390 [==============================] - 278s 8ms/step - loss: 1.3725 - accuracy: 0.5015 - val_loss: 1.3653 - val_accuracy: 0.5014\n",
      "Epoch 17/25\n",
      "36390/36390 [==============================] - 277s 8ms/step - loss: 1.3717 - accuracy: 0.5016 - val_loss: 1.3649 - val_accuracy: 0.5023\n",
      "Epoch 18/25\n",
      "36390/36390 [==============================] - 288s 8ms/step - loss: 1.3711 - accuracy: 0.5021 - val_loss: 1.3669 - val_accuracy: 0.5003\n",
      "Epoch 19/25\n",
      "36390/36390 [==============================] - 275s 8ms/step - loss: 1.3702 - accuracy: 0.5025 - val_loss: 1.3646 - val_accuracy: 0.5017\n",
      "Epoch 20/25\n",
      "36390/36390 [==============================] - 275s 8ms/step - loss: 1.3695 - accuracy: 0.5022 - val_loss: 1.3644 - val_accuracy: 0.5019\n",
      "Epoch 21/25\n",
      "36390/36390 [==============================] - 276s 8ms/step - loss: 1.3693 - accuracy: 0.5026 - val_loss: 1.3638 - val_accuracy: 0.5027\n",
      "Epoch 22/25\n",
      "36390/36390 [==============================] - 277s 8ms/step - loss: 1.3683 - accuracy: 0.5028 - val_loss: 1.3645 - val_accuracy: 0.5021\n",
      "Epoch 23/25\n",
      "36390/36390 [==============================] - 277s 8ms/step - loss: 1.3680 - accuracy: 0.5033 - val_loss: 1.3645 - val_accuracy: 0.5022\n",
      "Epoch 24/25\n",
      "36390/36390 [==============================] - 278s 8ms/step - loss: 1.3676 - accuracy: 0.5034 - val_loss: 1.3634 - val_accuracy: 0.5029\n",
      "Epoch 25/25\n",
      "36390/36390 [==============================] - 278s 8ms/step - loss: 1.3669 - accuracy: 0.5034 - val_loss: 1.3634 - val_accuracy: 0.5026\n",
      "training finish\n"
     ]
    }
   ],
   "source": [
    "from keras.callbacks import CSVLogger\n",
    "\n",
    "csv_logger = CSVLogger('training_log.csv')\n",
    "\n",
    "# training setting\n",
    "epochs = 25\n",
    "batch_size = 32\n",
    "\n",
    "# training!\n",
    "history = model.fit(X_train, y_train, \n",
    "                    epochs=epochs, \n",
    "                    batch_size=batch_size, \n",
    "                    callbacks=[csv_logger],\n",
    "                    validation_data = (X_val, y_val))\n",
    "print('training finish')"
   ]
  },
  {
   "cell_type": "code",
   "execution_count": 27,
   "id": "6cfa04ae",
   "metadata": {},
   "outputs": [
    {
     "data": {
      "text/html": [
       "<div>\n",
       "<style scoped>\n",
       "    .dataframe tbody tr th:only-of-type {\n",
       "        vertical-align: middle;\n",
       "    }\n",
       "\n",
       "    .dataframe tbody tr th {\n",
       "        vertical-align: top;\n",
       "    }\n",
       "\n",
       "    .dataframe thead th {\n",
       "        text-align: right;\n",
       "    }\n",
       "</style>\n",
       "<table border=\"1\" class=\"dataframe\">\n",
       "  <thead>\n",
       "    <tr style=\"text-align: right;\">\n",
       "      <th></th>\n",
       "      <th>epoch</th>\n",
       "      <th>accuracy</th>\n",
       "      <th>loss</th>\n",
       "      <th>val_accuracy</th>\n",
       "      <th>val_loss</th>\n",
       "    </tr>\n",
       "  </thead>\n",
       "  <tbody>\n",
       "    <tr>\n",
       "      <th>0</th>\n",
       "      <td>0</td>\n",
       "      <td>0.466218</td>\n",
       "      <td>1.471794</td>\n",
       "      <td>0.489126</td>\n",
       "      <td>1.399654</td>\n",
       "    </tr>\n",
       "    <tr>\n",
       "      <th>1</th>\n",
       "      <td>1</td>\n",
       "      <td>0.484255</td>\n",
       "      <td>1.418339</td>\n",
       "      <td>0.492699</td>\n",
       "      <td>1.388921</td>\n",
       "    </tr>\n",
       "    <tr>\n",
       "      <th>2</th>\n",
       "      <td>2</td>\n",
       "      <td>0.489338</td>\n",
       "      <td>1.405646</td>\n",
       "      <td>0.494784</td>\n",
       "      <td>1.381714</td>\n",
       "    </tr>\n",
       "    <tr>\n",
       "      <th>3</th>\n",
       "      <td>3</td>\n",
       "      <td>0.492008</td>\n",
       "      <td>1.398108</td>\n",
       "      <td>0.497412</td>\n",
       "      <td>1.377332</td>\n",
       "    </tr>\n",
       "    <tr>\n",
       "      <th>4</th>\n",
       "      <td>4</td>\n",
       "      <td>0.494231</td>\n",
       "      <td>1.392637</td>\n",
       "      <td>0.497267</td>\n",
       "      <td>1.375436</td>\n",
       "    </tr>\n",
       "    <tr>\n",
       "      <th>5</th>\n",
       "      <td>5</td>\n",
       "      <td>0.495528</td>\n",
       "      <td>1.389159</td>\n",
       "      <td>0.499493</td>\n",
       "      <td>1.372609</td>\n",
       "    </tr>\n",
       "    <tr>\n",
       "      <th>6</th>\n",
       "      <td>6</td>\n",
       "      <td>0.496148</td>\n",
       "      <td>1.386557</td>\n",
       "      <td>0.499926</td>\n",
       "      <td>1.370216</td>\n",
       "    </tr>\n",
       "    <tr>\n",
       "      <th>7</th>\n",
       "      <td>7</td>\n",
       "      <td>0.497292</td>\n",
       "      <td>1.383431</td>\n",
       "      <td>0.500761</td>\n",
       "      <td>1.369992</td>\n",
       "    </tr>\n",
       "    <tr>\n",
       "      <th>8</th>\n",
       "      <td>8</td>\n",
       "      <td>0.498164</td>\n",
       "      <td>1.381306</td>\n",
       "      <td>0.500816</td>\n",
       "      <td>1.368675</td>\n",
       "    </tr>\n",
       "    <tr>\n",
       "      <th>9</th>\n",
       "      <td>9</td>\n",
       "      <td>0.498881</td>\n",
       "      <td>1.379649</td>\n",
       "      <td>0.501098</td>\n",
       "      <td>1.368270</td>\n",
       "    </tr>\n",
       "    <tr>\n",
       "      <th>10</th>\n",
       "      <td>10</td>\n",
       "      <td>0.499173</td>\n",
       "      <td>1.377973</td>\n",
       "      <td>0.500115</td>\n",
       "      <td>1.368953</td>\n",
       "    </tr>\n",
       "    <tr>\n",
       "      <th>11</th>\n",
       "      <td>11</td>\n",
       "      <td>0.499862</td>\n",
       "      <td>1.376509</td>\n",
       "      <td>0.501712</td>\n",
       "      <td>1.365850</td>\n",
       "    </tr>\n",
       "    <tr>\n",
       "      <th>12</th>\n",
       "      <td>12</td>\n",
       "      <td>0.500398</td>\n",
       "      <td>1.375464</td>\n",
       "      <td>0.501273</td>\n",
       "      <td>1.366054</td>\n",
       "    </tr>\n",
       "    <tr>\n",
       "      <th>13</th>\n",
       "      <td>13</td>\n",
       "      <td>0.500187</td>\n",
       "      <td>1.374768</td>\n",
       "      <td>0.500435</td>\n",
       "      <td>1.366890</td>\n",
       "    </tr>\n",
       "    <tr>\n",
       "      <th>14</th>\n",
       "      <td>14</td>\n",
       "      <td>0.501193</td>\n",
       "      <td>1.373728</td>\n",
       "      <td>0.500356</td>\n",
       "      <td>1.366727</td>\n",
       "    </tr>\n",
       "    <tr>\n",
       "      <th>15</th>\n",
       "      <td>15</td>\n",
       "      <td>0.501541</td>\n",
       "      <td>1.372534</td>\n",
       "      <td>0.501410</td>\n",
       "      <td>1.365320</td>\n",
       "    </tr>\n",
       "    <tr>\n",
       "      <th>16</th>\n",
       "      <td>16</td>\n",
       "      <td>0.501645</td>\n",
       "      <td>1.371697</td>\n",
       "      <td>0.502317</td>\n",
       "      <td>1.364885</td>\n",
       "    </tr>\n",
       "    <tr>\n",
       "      <th>17</th>\n",
       "      <td>17</td>\n",
       "      <td>0.502125</td>\n",
       "      <td>1.371094</td>\n",
       "      <td>0.500311</td>\n",
       "      <td>1.366883</td>\n",
       "    </tr>\n",
       "    <tr>\n",
       "      <th>18</th>\n",
       "      <td>18</td>\n",
       "      <td>0.502508</td>\n",
       "      <td>1.370226</td>\n",
       "      <td>0.501661</td>\n",
       "      <td>1.364561</td>\n",
       "    </tr>\n",
       "    <tr>\n",
       "      <th>19</th>\n",
       "      <td>19</td>\n",
       "      <td>0.502174</td>\n",
       "      <td>1.369513</td>\n",
       "      <td>0.501939</td>\n",
       "      <td>1.364352</td>\n",
       "    </tr>\n",
       "    <tr>\n",
       "      <th>20</th>\n",
       "      <td>20</td>\n",
       "      <td>0.502575</td>\n",
       "      <td>1.369299</td>\n",
       "      <td>0.502688</td>\n",
       "      <td>1.363811</td>\n",
       "    </tr>\n",
       "    <tr>\n",
       "      <th>21</th>\n",
       "      <td>21</td>\n",
       "      <td>0.502838</td>\n",
       "      <td>1.368322</td>\n",
       "      <td>0.502121</td>\n",
       "      <td>1.364541</td>\n",
       "    </tr>\n",
       "    <tr>\n",
       "      <th>22</th>\n",
       "      <td>22</td>\n",
       "      <td>0.503294</td>\n",
       "      <td>1.367994</td>\n",
       "      <td>0.502214</td>\n",
       "      <td>1.364464</td>\n",
       "    </tr>\n",
       "    <tr>\n",
       "      <th>23</th>\n",
       "      <td>23</td>\n",
       "      <td>0.503376</td>\n",
       "      <td>1.367631</td>\n",
       "      <td>0.502908</td>\n",
       "      <td>1.363389</td>\n",
       "    </tr>\n",
       "    <tr>\n",
       "      <th>24</th>\n",
       "      <td>24</td>\n",
       "      <td>0.503414</td>\n",
       "      <td>1.366885</td>\n",
       "      <td>0.502626</td>\n",
       "      <td>1.363402</td>\n",
       "    </tr>\n",
       "  </tbody>\n",
       "</table>\n",
       "</div>"
      ],
      "text/plain": [
       "    epoch  accuracy      loss  val_accuracy  val_loss\n",
       "0       0  0.466218  1.471794      0.489126  1.399654\n",
       "1       1  0.484255  1.418339      0.492699  1.388921\n",
       "2       2  0.489338  1.405646      0.494784  1.381714\n",
       "3       3  0.492008  1.398108      0.497412  1.377332\n",
       "4       4  0.494231  1.392637      0.497267  1.375436\n",
       "5       5  0.495528  1.389159      0.499493  1.372609\n",
       "6       6  0.496148  1.386557      0.499926  1.370216\n",
       "7       7  0.497292  1.383431      0.500761  1.369992\n",
       "8       8  0.498164  1.381306      0.500816  1.368675\n",
       "9       9  0.498881  1.379649      0.501098  1.368270\n",
       "10     10  0.499173  1.377973      0.500115  1.368953\n",
       "11     11  0.499862  1.376509      0.501712  1.365850\n",
       "12     12  0.500398  1.375464      0.501273  1.366054\n",
       "13     13  0.500187  1.374768      0.500435  1.366890\n",
       "14     14  0.501193  1.373728      0.500356  1.366727\n",
       "15     15  0.501541  1.372534      0.501410  1.365320\n",
       "16     16  0.501645  1.371697      0.502317  1.364885\n",
       "17     17  0.502125  1.371094      0.500311  1.366883\n",
       "18     18  0.502508  1.370226      0.501661  1.364561\n",
       "19     19  0.502174  1.369513      0.501939  1.364352\n",
       "20     20  0.502575  1.369299      0.502688  1.363811\n",
       "21     21  0.502838  1.368322      0.502121  1.364541\n",
       "22     22  0.503294  1.367994      0.502214  1.364464\n",
       "23     23  0.503376  1.367631      0.502908  1.363389\n",
       "24     24  0.503414  1.366885      0.502626  1.363402"
      ]
     },
     "execution_count": 27,
     "metadata": {},
     "output_type": "execute_result"
    }
   ],
   "source": [
    "#Let's take a look at the training log\n",
    "training_log = pd.DataFrame()\n",
    "training_log = pd.read_csv(\"training_log.csv\")\n",
    "training_log"
   ]
  },
  {
   "cell_type": "code",
   "execution_count": 28,
   "id": "e33ea3d0",
   "metadata": {},
   "outputs": [
    {
     "name": "stdout",
     "output_type": "stream",
     "text": [
      "dict_keys(['loss', 'accuracy', 'val_loss', 'val_accuracy'])\n"
     ]
    },
    {
     "data": {
      "image/png": "[encoded data removed]",
      "text/plain": [
       "<Figure size 640x480 with 1 Axes>"
      ]
     },
     "metadata": {},
     "output_type": "display_data"
    },
    {
     "data": {
      "image/png": "[encoded data removed]",
      "text/plain": [
       "<Figure size 640x480 with 1 Axes>"
      ]
     },
     "metadata": {},
     "output_type": "display_data"
    }
   ],
   "source": [
    "# list all data in history\n",
    "print(history.history.keys())\n",
    "# summarize history for accuracy\n",
    "plt.plot(history.history['accuracy'])\n",
    "plt.plot(history.history['val_accuracy'])\n",
    "plt.title('model accuracy')\n",
    "plt.ylabel('accuracy')\n",
    "plt.xlabel('epoch')\n",
    "plt.legend(['train', 'test'], loc='upper left')\n",
    "plt.show()\n",
    "# summarize history for loss\n",
    "plt.plot(history.history['loss'])\n",
    "plt.plot(history.history['val_loss'])\n",
    "plt.title('model loss')\n",
    "plt.ylabel('loss')\n",
    "plt.xlabel('epoch')\n",
    "plt.legend(['train', 'test'], loc='upper left')\n",
    "plt.show()"
   ]
  },
  {
   "cell_type": "code",
   "execution_count": 29,
   "id": "aade9075",
   "metadata": {},
   "outputs": [
    {
     "data": {
      "text/html": [
       "<div>\n",
       "<style scoped>\n",
       "    .dataframe tbody tr th:only-of-type {\n",
       "        vertical-align: middle;\n",
       "    }\n",
       "\n",
       "    .dataframe tbody tr th {\n",
       "        vertical-align: top;\n",
       "    }\n",
       "\n",
       "    .dataframe thead th {\n",
       "        text-align: right;\n",
       "    }\n",
       "</style>\n",
       "<table border=\"1\" class=\"dataframe\">\n",
       "  <thead>\n",
       "    <tr style=\"text-align: right;\">\n",
       "      <th></th>\n",
       "      <th>tweet_id</th>\n",
       "      <th>text</th>\n",
       "    </tr>\n",
       "  </thead>\n",
       "  <tbody>\n",
       "    <tr>\n",
       "      <th>2</th>\n",
       "      <td>0x28b412</td>\n",
       "      <td>Confident of your obedience, I write to you, k...</td>\n",
       "    </tr>\n",
       "    <tr>\n",
       "      <th>4</th>\n",
       "      <td>0x2de201</td>\n",
       "      <td>\"Trust is not the same as faith. A friend is s...</td>\n",
       "    </tr>\n",
       "    <tr>\n",
       "      <th>9</th>\n",
       "      <td>0x218443</td>\n",
       "      <td>When do you have enough ? When are you satisfi...</td>\n",
       "    </tr>\n",
       "    <tr>\n",
       "      <th>30</th>\n",
       "      <td>0x2939d5</td>\n",
       "      <td>God woke you up, now chase the day #GodsPlan #...</td>\n",
       "    </tr>\n",
       "    <tr>\n",
       "      <th>33</th>\n",
       "      <td>0x26289a</td>\n",
       "      <td>In these tough times, who do YOU turn to as yo...</td>\n",
       "    </tr>\n",
       "  </tbody>\n",
       "</table>\n",
       "</div>"
      ],
      "text/plain": [
       "    tweet_id                                               text\n",
       "2   0x28b412  Confident of your obedience, I write to you, k...\n",
       "4   0x2de201  \"Trust is not the same as faith. A friend is s...\n",
       "9   0x218443  When do you have enough ? When are you satisfi...\n",
       "30  0x2939d5  God woke you up, now chase the day #GodsPlan #...\n",
       "33  0x26289a  In these tough times, who do YOU turn to as yo..."
      ]
     },
     "execution_count": 29,
     "metadata": {},
     "output_type": "execute_result"
    }
   ],
   "source": [
    "test_df.head()"
   ]
  },
  {
   "cell_type": "code",
   "execution_count": 30,
   "id": "de43a434",
   "metadata": {},
   "outputs": [
    {
     "data": {
      "text/plain": [
       "<411972x500 sparse matrix of type '<class 'numpy.int64'>'\n",
       "\twith 6280412 stored elements in Compressed Sparse Row format>"
      ]
     },
     "execution_count": 30,
     "metadata": {},
     "output_type": "execute_result"
    }
   ],
   "source": [
    "X_test"
   ]
  },
  {
   "cell_type": "markdown",
   "id": "10aa0c63",
   "metadata": {},
   "source": [
    "### Make a prediction on the testing set"
   ]
  },
  {
   "cell_type": "code",
   "execution_count": 31,
   "id": "0df61039",
   "metadata": {},
   "outputs": [
    {
     "name": "stdout",
     "output_type": "stream",
     "text": [
      "12875/12875 [==============================] - 28s 2ms/step\n"
     ]
    }
   ],
   "source": [
    "pred=model.predict(X_test)"
   ]
  },
  {
   "cell_type": "code",
   "execution_count": 33,
   "id": "aa47e6a1",
   "metadata": {
    "scrolled": true
   },
   "outputs": [
    {
     "name": "stdout",
     "output_type": "stream",
     "text": [
      "3219/3219 [==============================] - 7s 2ms/step\n"
     ]
    },
    {
     "data": {
      "text/plain": [
       "array([[5.77433826e-03, 5.84869266e-01, 1.25888633e-02, 4.65982314e-03,\n",
       "        2.88907826e-01, 1.77788641e-02, 4.89473622e-03, 8.05262551e-02],\n",
       "       [2.48843542e-04, 8.18437278e-01, 5.61965629e-04, 7.18909968e-03,\n",
       "        4.48356196e-02, 2.99817487e-03, 1.54454866e-03, 1.24184430e-01],\n",
       "       [3.40804979e-02, 1.82378307e-01, 1.25231892e-01, 1.22396955e-02,\n",
       "        1.34901851e-01, 4.40304428e-01, 1.81568731e-02, 5.27064353e-02],\n",
       "       [9.65316407e-03, 3.10483187e-01, 3.77928205e-02, 1.01384837e-02,\n",
       "        3.98021072e-01, 2.96495613e-02, 1.44154914e-02, 1.89846218e-01],\n",
       "       [1.91905610e-02, 3.92812937e-01, 5.19422740e-02, 2.43072771e-02,\n",
       "        2.11813986e-01, 4.53452058e-02, 1.23286648e-02, 2.42259055e-01]],\n",
       "      dtype=float32)"
      ]
     },
     "execution_count": 33,
     "metadata": {},
     "output_type": "execute_result"
    }
   ],
   "source": [
    "pred_result = model.predict(X_test, batch_size=128)\n",
    "pred_result[:5]"
   ]
  },
  {
   "cell_type": "code",
   "execution_count": 35,
   "id": "18f61679",
   "metadata": {},
   "outputs": [
    {
     "data": {
      "text/plain": [
       "array([1, 1, 5, 4, 1])"
      ]
     },
     "execution_count": 35,
     "metadata": {},
     "output_type": "execute_result"
    }
   ],
   "source": [
    "pred_result = label_decode(label_encoder, pred_result)\n",
    "pred_result[:5]"
   ]
  },
  {
   "cell_type": "code",
   "execution_count": 38,
   "id": "58b4eedf",
   "metadata": {},
   "outputs": [
    {
     "data": {
      "text/html": [
       "<div>\n",
       "<style scoped>\n",
       "    .dataframe tbody tr th:only-of-type {\n",
       "        vertical-align: middle;\n",
       "    }\n",
       "\n",
       "    .dataframe tbody tr th {\n",
       "        vertical-align: top;\n",
       "    }\n",
       "\n",
       "    .dataframe thead th {\n",
       "        text-align: right;\n",
       "    }\n",
       "</style>\n",
       "<table border=\"1\" class=\"dataframe\">\n",
       "  <thead>\n",
       "    <tr style=\"text-align: right;\">\n",
       "      <th></th>\n",
       "      <th>prediction</th>\n",
       "    </tr>\n",
       "  </thead>\n",
       "  <tbody>\n",
       "    <tr>\n",
       "      <th>0</th>\n",
       "      <td>1</td>\n",
       "    </tr>\n",
       "    <tr>\n",
       "      <th>1</th>\n",
       "      <td>1</td>\n",
       "    </tr>\n",
       "    <tr>\n",
       "      <th>2</th>\n",
       "      <td>5</td>\n",
       "    </tr>\n",
       "    <tr>\n",
       "      <th>3</th>\n",
       "      <td>4</td>\n",
       "    </tr>\n",
       "    <tr>\n",
       "      <th>4</th>\n",
       "      <td>1</td>\n",
       "    </tr>\n",
       "    <tr>\n",
       "      <th>...</th>\n",
       "      <td>...</td>\n",
       "    </tr>\n",
       "    <tr>\n",
       "      <th>411967</th>\n",
       "      <td>4</td>\n",
       "    </tr>\n",
       "    <tr>\n",
       "      <th>411968</th>\n",
       "      <td>1</td>\n",
       "    </tr>\n",
       "    <tr>\n",
       "      <th>411969</th>\n",
       "      <td>2</td>\n",
       "    </tr>\n",
       "    <tr>\n",
       "      <th>411970</th>\n",
       "      <td>4</td>\n",
       "    </tr>\n",
       "    <tr>\n",
       "      <th>411971</th>\n",
       "      <td>5</td>\n",
       "    </tr>\n",
       "  </tbody>\n",
       "</table>\n",
       "<p>411972 rows × 1 columns</p>\n",
       "</div>"
      ],
      "text/plain": [
       "        prediction\n",
       "0                1\n",
       "1                1\n",
       "2                5\n",
       "3                4\n",
       "4                1\n",
       "...            ...\n",
       "411967           4\n",
       "411968           1\n",
       "411969           2\n",
       "411970           4\n",
       "411971           5\n",
       "\n",
       "[411972 rows x 1 columns]"
      ]
     },
     "execution_count": 38,
     "metadata": {},
     "output_type": "execute_result"
    }
   ],
   "source": [
    "pred_df = pd.DataFrame(pred_result.tolist(), columns =['prediction'])\n",
    "pred_df"
   ]
  },
  {
   "cell_type": "markdown",
   "id": "9ddd0238",
   "metadata": {},
   "source": [
    "#### Add the predicted result into our test_df and arrange the dataframe"
   ]
  },
  {
   "cell_type": "code",
   "execution_count": 40,
   "id": "042fc979",
   "metadata": {
    "scrolled": true
   },
   "outputs": [
    {
     "data": {
      "text/html": [
       "<div>\n",
       "<style scoped>\n",
       "    .dataframe tbody tr th:only-of-type {\n",
       "        vertical-align: middle;\n",
       "    }\n",
       "\n",
       "    .dataframe tbody tr th {\n",
       "        vertical-align: top;\n",
       "    }\n",
       "\n",
       "    .dataframe thead th {\n",
       "        text-align: right;\n",
       "    }\n",
       "</style>\n",
       "<table border=\"1\" class=\"dataframe\">\n",
       "  <thead>\n",
       "    <tr style=\"text-align: right;\">\n",
       "      <th></th>\n",
       "      <th>tweet_id</th>\n",
       "      <th>text</th>\n",
       "      <th>prediction</th>\n",
       "    </tr>\n",
       "  </thead>\n",
       "  <tbody>\n",
       "    <tr>\n",
       "      <th>0</th>\n",
       "      <td>0x28b412</td>\n",
       "      <td>Confident of your obedience, I write to you, k...</td>\n",
       "      <td>1</td>\n",
       "    </tr>\n",
       "    <tr>\n",
       "      <th>1</th>\n",
       "      <td>0x2de201</td>\n",
       "      <td>\"Trust is not the same as faith. A friend is s...</td>\n",
       "      <td>1</td>\n",
       "    </tr>\n",
       "    <tr>\n",
       "      <th>2</th>\n",
       "      <td>0x218443</td>\n",
       "      <td>When do you have enough ? When are you satisfi...</td>\n",
       "      <td>5</td>\n",
       "    </tr>\n",
       "    <tr>\n",
       "      <th>3</th>\n",
       "      <td>0x2939d5</td>\n",
       "      <td>God woke you up, now chase the day #GodsPlan #...</td>\n",
       "      <td>4</td>\n",
       "    </tr>\n",
       "    <tr>\n",
       "      <th>4</th>\n",
       "      <td>0x26289a</td>\n",
       "      <td>In these tough times, who do YOU turn to as yo...</td>\n",
       "      <td>1</td>\n",
       "    </tr>\n",
       "  </tbody>\n",
       "</table>\n",
       "</div>"
      ],
      "text/plain": [
       "   tweet_id                                               text  prediction\n",
       "0  0x28b412  Confident of your obedience, I write to you, k...           1\n",
       "1  0x2de201  \"Trust is not the same as faith. A friend is s...           1\n",
       "2  0x218443  When do you have enough ? When are you satisfi...           5\n",
       "3  0x2939d5  God woke you up, now chase the day #GodsPlan #...           4\n",
       "4  0x26289a  In these tough times, who do YOU turn to as yo...           1"
      ]
     },
     "execution_count": 40,
     "metadata": {},
     "output_type": "execute_result"
    }
   ],
   "source": [
    "test_df.reset_index(drop=True, inplace=True)\n",
    "pred_df.reset_index(drop=True, inplace=True)\n",
    "\n",
    "test_pred_df = pd.concat([test_df, pred_df], axis=1) \n",
    "test_pred_df.head()"
   ]
  },
  {
   "cell_type": "markdown",
   "id": "3389c694",
   "metadata": {},
   "source": [
    "Change the number-form emotions back to the word form."
   ]
  },
  {
   "cell_type": "code",
   "execution_count": 41,
   "id": "bfd69927",
   "metadata": {},
   "outputs": [
    {
     "data": {
      "text/plain": [
       "{0: 'anger',\n",
       " 1: 'anticipation',\n",
       " 2: 'disgust',\n",
       " 3: 'fear',\n",
       " 4: 'joy',\n",
       " 5: 'sadness',\n",
       " 6: 'surprise',\n",
       " 7: 'trust'}"
      ]
     },
     "execution_count": 41,
     "metadata": {},
     "output_type": "execute_result"
    }
   ],
   "source": [
    "inv_emo = {v: k for k, v in emotion_state.items()}\n",
    "inv_emo"
   ]
  },
  {
   "cell_type": "code",
   "execution_count": 44,
   "id": "b30a1d58",
   "metadata": {},
   "outputs": [
    {
     "data": {
      "text/html": [
       "<div>\n",
       "<style scoped>\n",
       "    .dataframe tbody tr th:only-of-type {\n",
       "        vertical-align: middle;\n",
       "    }\n",
       "\n",
       "    .dataframe tbody tr th {\n",
       "        vertical-align: top;\n",
       "    }\n",
       "\n",
       "    .dataframe thead th {\n",
       "        text-align: right;\n",
       "    }\n",
       "</style>\n",
       "<table border=\"1\" class=\"dataframe\">\n",
       "  <thead>\n",
       "    <tr style=\"text-align: right;\">\n",
       "      <th></th>\n",
       "      <th>tweet_id</th>\n",
       "      <th>text</th>\n",
       "      <th>prediction</th>\n",
       "    </tr>\n",
       "  </thead>\n",
       "  <tbody>\n",
       "    <tr>\n",
       "      <th>0</th>\n",
       "      <td>0x28b412</td>\n",
       "      <td>Confident of your obedience, I write to you, k...</td>\n",
       "      <td>anticipation</td>\n",
       "    </tr>\n",
       "    <tr>\n",
       "      <th>1</th>\n",
       "      <td>0x2de201</td>\n",
       "      <td>\"Trust is not the same as faith. A friend is s...</td>\n",
       "      <td>anticipation</td>\n",
       "    </tr>\n",
       "    <tr>\n",
       "      <th>2</th>\n",
       "      <td>0x218443</td>\n",
       "      <td>When do you have enough ? When are you satisfi...</td>\n",
       "      <td>sadness</td>\n",
       "    </tr>\n",
       "    <tr>\n",
       "      <th>3</th>\n",
       "      <td>0x2939d5</td>\n",
       "      <td>God woke you up, now chase the day #GodsPlan #...</td>\n",
       "      <td>joy</td>\n",
       "    </tr>\n",
       "    <tr>\n",
       "      <th>4</th>\n",
       "      <td>0x26289a</td>\n",
       "      <td>In these tough times, who do YOU turn to as yo...</td>\n",
       "      <td>anticipation</td>\n",
       "    </tr>\n",
       "  </tbody>\n",
       "</table>\n",
       "</div>"
      ],
      "text/plain": [
       "   tweet_id                                               text    prediction\n",
       "0  0x28b412  Confident of your obedience, I write to you, k...  anticipation\n",
       "1  0x2de201  \"Trust is not the same as faith. A friend is s...  anticipation\n",
       "2  0x218443  When do you have enough ? When are you satisfi...       sadness\n",
       "3  0x2939d5  God woke you up, now chase the day #GodsPlan #...           joy\n",
       "4  0x26289a  In these tough times, who do YOU turn to as yo...  anticipation"
      ]
     },
     "execution_count": 44,
     "metadata": {},
     "output_type": "execute_result"
    }
   ],
   "source": [
    "test_emo_df = test_pred_df.replace({\"prediction\": inv_emo})\n",
    "test_emo_df.head()"
   ]
  },
  {
   "cell_type": "code",
   "execution_count": 45,
   "id": "2c64fb2b",
   "metadata": {},
   "outputs": [
    {
     "data": {
      "text/html": [
       "<div>\n",
       "<style scoped>\n",
       "    .dataframe tbody tr th:only-of-type {\n",
       "        vertical-align: middle;\n",
       "    }\n",
       "\n",
       "    .dataframe tbody tr th {\n",
       "        vertical-align: top;\n",
       "    }\n",
       "\n",
       "    .dataframe thead th {\n",
       "        text-align: right;\n",
       "    }\n",
       "</style>\n",
       "<table border=\"1\" class=\"dataframe\">\n",
       "  <thead>\n",
       "    <tr style=\"text-align: right;\">\n",
       "      <th></th>\n",
       "      <th>tweet_id</th>\n",
       "      <th>prediction</th>\n",
       "    </tr>\n",
       "  </thead>\n",
       "  <tbody>\n",
       "    <tr>\n",
       "      <th>0</th>\n",
       "      <td>0x28b412</td>\n",
       "      <td>anticipation</td>\n",
       "    </tr>\n",
       "    <tr>\n",
       "      <th>1</th>\n",
       "      <td>0x2de201</td>\n",
       "      <td>anticipation</td>\n",
       "    </tr>\n",
       "    <tr>\n",
       "      <th>2</th>\n",
       "      <td>0x218443</td>\n",
       "      <td>sadness</td>\n",
       "    </tr>\n",
       "    <tr>\n",
       "      <th>3</th>\n",
       "      <td>0x2939d5</td>\n",
       "      <td>joy</td>\n",
       "    </tr>\n",
       "    <tr>\n",
       "      <th>4</th>\n",
       "      <td>0x26289a</td>\n",
       "      <td>anticipation</td>\n",
       "    </tr>\n",
       "  </tbody>\n",
       "</table>\n",
       "</div>"
      ],
      "text/plain": [
       "   tweet_id    prediction\n",
       "0  0x28b412  anticipation\n",
       "1  0x2de201  anticipation\n",
       "2  0x218443       sadness\n",
       "3  0x2939d5           joy\n",
       "4  0x26289a  anticipation"
      ]
     },
     "execution_count": 45,
     "metadata": {},
     "output_type": "execute_result"
    }
   ],
   "source": [
    "ans_df = test_emo_df.drop(['text'], axis=1)\n",
    "ans_df.head()"
   ]
  },
  {
   "cell_type": "markdown",
   "id": "6e391955",
   "metadata": {},
   "source": [
    "#### Make the final dataframe in the same form as the sample submission."
   ]
  },
  {
   "cell_type": "code",
   "execution_count": 46,
   "id": "1ccceba4",
   "metadata": {},
   "outputs": [
    {
     "data": {
      "text/html": [
       "<div>\n",
       "<style scoped>\n",
       "    .dataframe tbody tr th:only-of-type {\n",
       "        vertical-align: middle;\n",
       "    }\n",
       "\n",
       "    .dataframe tbody tr th {\n",
       "        vertical-align: top;\n",
       "    }\n",
       "\n",
       "    .dataframe thead th {\n",
       "        text-align: right;\n",
       "    }\n",
       "</style>\n",
       "<table border=\"1\" class=\"dataframe\">\n",
       "  <thead>\n",
       "    <tr style=\"text-align: right;\">\n",
       "      <th></th>\n",
       "      <th>id</th>\n",
       "      <th>emotion</th>\n",
       "    </tr>\n",
       "  </thead>\n",
       "  <tbody>\n",
       "    <tr>\n",
       "      <th>0</th>\n",
       "      <td>0x28b412</td>\n",
       "      <td>anticipation</td>\n",
       "    </tr>\n",
       "    <tr>\n",
       "      <th>1</th>\n",
       "      <td>0x2de201</td>\n",
       "      <td>anticipation</td>\n",
       "    </tr>\n",
       "    <tr>\n",
       "      <th>2</th>\n",
       "      <td>0x218443</td>\n",
       "      <td>sadness</td>\n",
       "    </tr>\n",
       "    <tr>\n",
       "      <th>3</th>\n",
       "      <td>0x2939d5</td>\n",
       "      <td>joy</td>\n",
       "    </tr>\n",
       "    <tr>\n",
       "      <th>4</th>\n",
       "      <td>0x26289a</td>\n",
       "      <td>anticipation</td>\n",
       "    </tr>\n",
       "  </tbody>\n",
       "</table>\n",
       "</div>"
      ],
      "text/plain": [
       "         id       emotion\n",
       "0  0x28b412  anticipation\n",
       "1  0x2de201  anticipation\n",
       "2  0x218443       sadness\n",
       "3  0x2939d5           joy\n",
       "4  0x26289a  anticipation"
      ]
     },
     "execution_count": 46,
     "metadata": {},
     "output_type": "execute_result"
    }
   ],
   "source": [
    "ans_df.rename(columns={'tweet_id': 'id', 'prediction': 'emotion'}, inplace=True)\n",
    "ans_df.head()"
   ]
  },
  {
   "cell_type": "markdown",
   "id": "f235fb41",
   "metadata": {},
   "source": [
    "### Save our prediction!"
   ]
  },
  {
   "cell_type": "code",
   "execution_count": 47,
   "id": "94ec431e",
   "metadata": {},
   "outputs": [],
   "source": [
    "ans_df.to_csv('NN_ans.csv', encoding='utf-8', index=False)"
   ]
  }
 ],
 "metadata": {
  "kernelspec": {
   "display_name": "Python (Ivy)",
   "language": "python",
   "name": "ivy"
  },
  "language_info": {
   "codemirror_mode": {
    "name": "ipython",
    "version": 3
   },
   "file_extension": ".py",
   "mimetype": "text/x-python",
   "name": "python",
   "nbconvert_exporter": "python",
   "pygments_lexer": "ipython3",
   "version": "3.9.14"
  }
 },
 "nbformat": 4,
 "nbformat_minor": 5
}
